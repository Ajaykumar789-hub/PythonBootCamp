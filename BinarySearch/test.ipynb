{
 "cells": [
  {
   "cell_type": "code",
   "execution_count": 1,
   "metadata": {},
   "outputs": [],
   "source": [
    "import time\n"
   ]
  },
  {
   "cell_type": "code",
   "execution_count": 17,
   "metadata": {},
   "outputs": [],
   "source": [
    "lst = ['c', 'f', 'j']\n",
    "target = 'c'\n",
    "def search(lst, target):\n",
    "    start , end = 0, len(lst)-1\n",
    "    if target >=lst[end]:\n",
    "        return lst[0]\n",
    "\n",
    "    while(start<end):\n",
    "        mid = (start+end)//2\n",
    "        if(lst[mid] > target):\n",
    "            end = mid-1\n",
    "        else:\n",
    "            start = mid +1\n",
    "    return lst[start % len(lst)]"
   ]
  },
  {
   "cell_type": "code",
   "execution_count": 18,
   "metadata": {},
   "outputs": [
    {
     "name": "stdout",
     "output_type": "stream",
     "text": [
      "c\n"
     ]
    }
   ],
   "source": [
    "print(search(lst, target))"
   ]
  },
  {
   "cell_type": "code",
   "execution_count": 19,
   "metadata": {},
   "outputs": [
    {
     "data": {
      "text/plain": [
       "2"
      ]
     },
     "execution_count": 19,
     "metadata": {},
     "output_type": "execute_result"
    }
   ],
   "source": [
    "5//2"
   ]
  },
  {
   "cell_type": "code",
   "execution_count": null,
   "metadata": {},
   "outputs": [],
   "source": [
    "def searchRange(nums, target):\n",
    "    \"\"\"\n",
    "    Find the starting and ending position of a given target value in a sorted array.\n",
    "    Use binary search to find both the first and last occurrence of the target.\n",
    "    \"\"\"\n",
    "    def findFirst(nums, target):\n",
    "        \"\"\"\n",
    "        Find the first occurrence of the target using binary search.\n",
    "        \"\"\"\n",
    "        left, right = 0, len(nums) - 1\n",
    "        result = -1\n",
    "        while left <= right:\n",
    "            mid = (left + right) // 2\n",
    "            if nums[mid] == target:\n",
    "                result = mid\n",
    "                right = mid - 1\n",
    "            elif nums[mid] < target:\n",
    "                left = mid + 1\n",
    "            else:\n",
    "                right = mid - 1\n",
    "        return result\n",
    " \n",
    "    def findLast(nums, target):\n",
    "        \"\"\"\n",
    "        Find the last occurrence of the target using binary search.\n",
    "        \"\"\"\n",
    "        left, right = 0, len(nums) - 1\n",
    "        result = -1\n",
    "        while left <= right:\n",
    "            mid = (left + right) // 2\n",
    "            if nums[mid] == target:\n",
    "                result = mid\n",
    "                left = mid + 1\n",
    "            elif nums[mid] < target:\n",
    "                left = mid + 1\n",
    "            else:\n",
    "                right = mid - 1\n",
    "        return result"
   ]
  }
 ],
 "metadata": {
  "kernelspec": {
   "display_name": "Python 3",
   "language": "python",
   "name": "python3"
  },
  "language_info": {
   "codemirror_mode": {
    "name": "ipython",
    "version": 3
   },
   "file_extension": ".py",
   "mimetype": "text/x-python",
   "name": "python",
   "nbconvert_exporter": "python",
   "pygments_lexer": "ipython3",
   "version": "3.12.7"
  }
 },
 "nbformat": 4,
 "nbformat_minor": 2
}
